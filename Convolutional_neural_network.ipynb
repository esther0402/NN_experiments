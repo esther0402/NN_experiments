{
  "nbformat": 4,
  "nbformat_minor": 0,
  "metadata": {
    "colab": {
      "provenance": [],
      "include_colab_link": true
    },
    "kernelspec": {
      "name": "python3",
      "display_name": "Python 3"
    }
  },
  "cells": [
    {
      "cell_type": "markdown",
      "metadata": {
        "id": "view-in-github",
        "colab_type": "text"
      },
      "source": [
        "<a href=\"https://colab.research.google.com/github/esther0402/NN_experiments/blob/main/Convolutional_neural_network.ipynb\" target=\"_parent\"><img src=\"https://colab.research.google.com/assets/colab-badge.svg\" alt=\"Open In Colab\"/></a>"
      ]
    },
    {
      "cell_type": "markdown",
      "metadata": {
        "id": "3DR-eO17geWu"
      },
      "source": [
        "# Convolutional Neural Network"
      ]
    },
    {
      "cell_type": "markdown",
      "metadata": {
        "id": "EMefrVPCg-60"
      },
      "source": [
        "### Importing the libraries"
      ]
    },
    {
      "cell_type": "code",
      "source": [
        "import tensorflow as tf\n",
        "from keras.preprocessing.image import ImageDataGenerator\n",
        "# keras library -> preprocessing module -> image submodule\n",
        "# allows us to do image preprocessing in Part 1"
      ],
      "metadata": {
        "id": "zlqZgPIhnKJQ"
      },
      "execution_count": null,
      "outputs": []
    },
    {
      "cell_type": "code",
      "source": [
        "tf.__version__\n",
        "#checking version of tensorflow"
      ],
      "metadata": {
        "colab": {
          "base_uri": "https://localhost:8080/",
          "height": 35
        },
        "id": "Sb-V-D65n5aw",
        "outputId": "8eafb0e0-56c8-4bef-f4a4-3233ab464755"
      },
      "execution_count": null,
      "outputs": [
        {
          "output_type": "execute_result",
          "data": {
            "text/plain": [
              "'2.12.0'"
            ],
            "application/vnd.google.colaboratory.intrinsic+json": {
              "type": "string"
            }
          },
          "metadata": {},
          "execution_count": 2
        }
      ]
    },
    {
      "cell_type": "markdown",
      "metadata": {
        "id": "oxQxCBWyoGPE"
      },
      "source": [
        "## Part 1 - Data Preprocessing"
      ]
    },
    {
      "cell_type": "markdown",
      "metadata": {
        "id": "MvE-heJNo3GG"
      },
      "source": [
        "### Preprocessing the Training set"
      ]
    },
    {
      "cell_type": "code",
      "source": [
        "#How do we apply preprocessing to our images?\n",
        " #Image augmentation -> Apply transformations on all images on the training set ONLY -> this avoids overfitting"
      ],
      "metadata": {
        "id": "UJenl7DboGRp"
      },
      "execution_count": null,
      "outputs": []
    },
    {
      "cell_type": "code",
      "source": [
        "train_datagen = ImageDataGenerator(\n",
        "        rescale=1./255,\n",
        "        shear_range=0.2,\n",
        "        zoom_range=0.2,\n",
        "        horizontal_flip=True)\n",
        "#train_datagen is an instance of that imagedatagenerator class\n",
        "#rescale = feature scaling\n",
        "#the rest are transformations that will perform image augemntations of the images of training set\n",
        "\n",
        "train_set = train_datagen.flow_from_directory(\n",
        "        'dataset/training_set',\n",
        "        target_size = (64, 64), #final size of images\n",
        "        batch_size = 32, #classic batch size\n",
        "        class_mode='binary') #binary because cat/dog\n",
        "#connecting our training set to the object"
      ],
      "metadata": {
        "id": "0feT6Xquv0p1"
      },
      "execution_count": null,
      "outputs": []
    },
    {
      "cell_type": "markdown",
      "metadata": {
        "id": "mrCMmGw9pHys"
      },
      "source": [
        "### Preprocessing the Test set"
      ]
    },
    {
      "cell_type": "code",
      "source": [
        "test_datagen = ImageDataGenerator(rescale=1./255)\n",
        "#No transformations here -> the model learns to recognize patterns that are invariant to these transformations\n",
        "#This helps to improve the generalization of the model and its ability to perform well on new data.\n",
        "\n",
        "\n",
        "test_set = test_datagen.flow_from_directory(\n",
        "        'dataset/test_set',\n",
        "        target_size=(64, 64),\n",
        "        batch_size=32,\n",
        "        class_mode='binary')"
      ],
      "metadata": {
        "id": "koE0PIvmoGpE"
      },
      "execution_count": null,
      "outputs": []
    },
    {
      "cell_type": "markdown",
      "metadata": {
        "id": "af8O4l90gk7B"
      },
      "source": [
        "## Part 2 - Building the CNN"
      ]
    },
    {
      "cell_type": "markdown",
      "metadata": {
        "id": "ces1gXY2lmoX"
      },
      "source": [
        "### Initialising the CNN"
      ]
    },
    {
      "cell_type": "code",
      "source": [
        "cnn = tf.keras.models.Sequential()"
      ],
      "metadata": {
        "id": "aGdScGXo03zJ"
      },
      "execution_count": null,
      "outputs": []
    },
    {
      "cell_type": "markdown",
      "metadata": {
        "id": "u5YJj_XMl5LF"
      },
      "source": [
        "### Step 1 - Convolution"
      ]
    },
    {
      "cell_type": "code",
      "source": [
        "cnn.add(tf.keras.layers.Conv2D(filters = 32, kernel_size = 3, activation ='relu', input_shape = [64,64,3]))\n",
        "# We add a new fully connected layer object in the add method using the dense class\n",
        "#\"layers\" is the module that has the tools/classes to add any layer you want\n",
        "# Conv2D -> parameters we need to change\n",
        "  # number of feature detectors\n",
        "  # size of a feature detector (3 x 3)\n",
        "  # activation to ReLU\n",
        "  # input shape (64,64,3), 3 because color images (RGB), it would be 1 for B&W"
      ],
      "metadata": {
        "id": "cz4nPeAN0-fP"
      },
      "execution_count": null,
      "outputs": []
    },
    {
      "cell_type": "markdown",
      "metadata": {
        "id": "tf87FpvxmNOJ"
      },
      "source": [
        "### Step 2 - Pooling"
      ]
    },
    {
      "cell_type": "code",
      "source": [
        "cnn.add(tf.keras.layers.MaxPool2D(pool_size = 2, strides = 2))\n",
        "#arguments\n",
        "  #pool_size\n",
        "  #stride"
      ],
      "metadata": {
        "id": "N2nq2BDv3Orz"
      },
      "execution_count": null,
      "outputs": []
    },
    {
      "cell_type": "markdown",
      "metadata": {
        "id": "xaTOgD8rm4mU"
      },
      "source": [
        "### Adding a second convolutional layer"
      ]
    },
    {
      "cell_type": "code",
      "source": [
        "cnn.add(tf.keras.layers.Conv2D(filters = 32, kernel_size = 3, activation ='relu'))\n",
        "#we remove the input_shape because this is only used when you add very first layer\n",
        "cnn.add(tf.keras.layers.MaxPool2D(pool_size = 2, strides = 2))"
      ],
      "metadata": {
        "id": "pEyyvGkd4zGy"
      },
      "execution_count": null,
      "outputs": []
    },
    {
      "cell_type": "markdown",
      "metadata": {
        "id": "tmiEuvTunKfk"
      },
      "source": [
        "### Step 3 - Flattening"
      ]
    },
    {
      "cell_type": "code",
      "source": [
        "cnn.add(tf.keras.layers.Flatten())"
      ],
      "metadata": {
        "id": "pKwivHrD5Xn0"
      },
      "execution_count": null,
      "outputs": []
    },
    {
      "cell_type": "markdown",
      "metadata": {
        "id": "dAoSECOm203v"
      },
      "source": [
        "### Step 4 - Full Connection"
      ]
    },
    {
      "cell_type": "code",
      "source": [
        "cnn.add(tf.keras.layers.Dense(units = 124, activation = 'relu'))\n",
        "#units = number of hidden neurons\n",
        "#use 'relu' when you're not at the last output layer"
      ],
      "metadata": {
        "id": "YgT58VQc56uJ"
      },
      "execution_count": null,
      "outputs": []
    },
    {
      "cell_type": "markdown",
      "metadata": {
        "id": "yTldFvbX28Na"
      },
      "source": [
        "### Step 5 - Output Layer"
      ]
    },
    {
      "cell_type": "code",
      "source": [
        "cnn.add(tf.keras.layers.Dense(units = 1, activation = 'sigmoid'))\n",
        "#one neuron to encode binary classification\n",
        "#output is sigmoid"
      ],
      "metadata": {
        "id": "DCBuebtF65tN"
      },
      "execution_count": null,
      "outputs": []
    },
    {
      "cell_type": "markdown",
      "metadata": {
        "id": "D6XkI90snSDl"
      },
      "source": [
        "## Part 3 - Training the CNN"
      ]
    },
    {
      "cell_type": "markdown",
      "metadata": {
        "id": "vfrFQACEnc6i"
      },
      "source": [
        "### Compiling the CNN"
      ]
    },
    {
      "cell_type": "code",
      "source": [
        "#optimizer, loss function, and metrics"
      ],
      "metadata": {
        "id": "Am0EzdjHCKM_"
      },
      "execution_count": null,
      "outputs": []
    },
    {
      "cell_type": "code",
      "source": [
        "cnn.compile(optimizer = 'adam', loss = 'binary_crossentropy', metrics = ['accuracy'])\n",
        "# We will compile the ANN with an optimizer, loss function, and metrics to evaluate (we choose accuracy)\n",
        "  # Atom optimizer = optimizer that performs stochastic gradient descent (updates weights to reduce cost function), short is adam\n",
        "  # loss function = computes the difference bet. predicted & real results\n",
        "    #binary_crossentropy is for binary results\n",
        "  #metrics = accuracy (most relevant way to measure performance)"
      ],
      "metadata": {
        "id": "-oR6aL6cCKEE"
      },
      "execution_count": null,
      "outputs": []
    },
    {
      "cell_type": "markdown",
      "metadata": {
        "id": "ehS-v3MIpX2h"
      },
      "source": [
        "### Training the CNN on the Training set and evaluating it on the Test set"
      ]
    },
    {
      "cell_type": "code",
      "source": [
        "#Training and evaluation will happen simultaneously because this is computer vision"
      ],
      "metadata": {
        "id": "E3uw9e8c_ft7"
      },
      "execution_count": null,
      "outputs": []
    },
    {
      "cell_type": "code",
      "source": [
        "cnn.fit(x = train_set, validation_data = test_set, epoch = 25)\n",
        "#fit trains the ccn on the training set\n",
        "#validation = the set we want to evaluate our CNN (test set)"
      ],
      "metadata": {
        "id": "vTD-PkBq_gF2"
      },
      "execution_count": null,
      "outputs": []
    },
    {
      "cell_type": "markdown",
      "metadata": {
        "id": "U3PZasO0006Z"
      },
      "source": [
        "## Part 4 - Making a single prediction"
      ]
    },
    {
      "cell_type": "code",
      "source": [
        "import numpy as np\n",
        "from keras.preprocessing import image\n",
        "\n",
        "#image we will test our model\n",
        "test_image = image.load_img('dataset/single_prediction/cat_or_dog_1.jpg', target_size = (64,64))\n",
        "#image has to have the same size we used during training\n",
        "\n",
        "test_image = image.img_to_array(test_image)\n",
        "#predict method expects 2D array, so we convert the text_image\n",
        "\n",
        "test_image = np.expand_dims(test_image, axis = 0)\n",
        "#we need to train in batches even if it's just for a single prediction\n",
        "#we add an extra dimension corresponding to the batch\n",
        "#2nd parameter -> *where* we want to add the dimension -> the batch will be the first dimension\n",
        "\n",
        "result = cnn.predict(test_image)\n",
        "#this is our prediction result\n",
        "\n",
        "training_set.class_indices\n",
        "#figuring out what 0 and 1 stands for (dog/cat)\n",
        "\n",
        "if result [0][0] == 1 :\n",
        "  prediction = 'dog'\n",
        "else :\n",
        "  prediction = 'cat'\n",
        "#first [] is getting access to the one and only batch, which has index '0'\n",
        "#second [] is getting the element inside the batch, the one and only 1st (0th) picture"
      ],
      "metadata": {
        "id": "MU-t-Asw_goY"
      },
      "execution_count": null,
      "outputs": []
    },
    {
      "cell_type": "code",
      "source": [
        "print(prediction)"
      ],
      "metadata": {
        "id": "P9OveOYii_H5"
      },
      "execution_count": null,
      "outputs": []
    }
  ]
}